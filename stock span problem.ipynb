{
 "cells": [
  {
   "cell_type": "code",
   "execution_count": 8,
   "metadata": {},
   "outputs": [
    {
     "name": "stdout",
     "output_type": "stream",
     "text": [
      "1\n",
      "7\n",
      "100 80 60 70 60 75 85\n",
      "80 [100, 0, 0, 0, 0, 0, 0] [0, 0, 0, 0, 0, 0, 0]\n",
      "80 [100, 0, 0, 0, 0, 0, 0] [0, 0, 0, 0, 0, 0, 0]\n",
      "60 [100, 80, 0, 0, 0, 0, 0] [0, 0, 0, 0, 0, 0, 0]\n",
      "60 [100, 80, 0, 0, 0, 0, 0] [0, 0, 0, 0, 0, 0, 0]\n",
      "70 [100, 80, 60, 0, 0, 0, 0] [0, 0, 0, 0, 0, 0, 0]\n",
      "70 [100, 80, 60, 0, 0, 0, 0] [60, 0, 0, 0, 0, 0, 0]\n",
      "60 [100, 80, 60, 70, 0, 0, 0] [60, 0, 0, 0, 0, 0, 0]\n",
      "60 [100, 80, 60, 70, 0, 0, 0] [60, 0, 0, 0, 0, 0, 0]\n",
      "75 [100, 80, 60, 70, 60, 0, 0] [60, 0, 0, 0, 0, 0, 0]\n",
      "75 [100, 80, 60, 70, 60, 0, 0] [60, 70, 60, 0, 0, 0, 0]\n",
      "85 [100, 80, 60, 70, 60, 75, 0] [60, 70, 60, 0, 0, 0, 0]\n",
      "85 [100, 80, 60, 70, 60, 75, 0] [75, 60, 70, 60, 80, 0, 0]\n",
      "[1, 1, 1, 2, 1, 4, 6]\n"
     ]
    }
   ],
   "source": [
    "class Stack:\n",
    "    def __init__(self,n):\n",
    "        self.arr = [0]*n\n",
    "        self.max_size = n\n",
    "        self.top=-1\n",
    "    def push(self,ele):\n",
    "        self.top+=1\n",
    "        self.arr[self.top] = ele\n",
    "    def pop(self):\n",
    "        if(self.top==-1):\n",
    "            ele=-1\n",
    "        else:\n",
    "            ele = self.arr[self.top]\n",
    "            self.top-=1\n",
    "        return ele\n",
    "    def stacktop(self):\n",
    "        if(self.top==-1):\n",
    "            return -1\n",
    "        else:\n",
    "            return self.arr[self.top]\n",
    "    def isempty(self):\n",
    "        if(self.top==-1):\n",
    "            return 1\n",
    "        else:\n",
    "            return 0\n",
    "class Solution:\n",
    "    def stockspanproblem(self,price,n):\n",
    "        res = [1]\n",
    "        s1 = Stack(n)\n",
    "        s2 = Stack(n)\n",
    "        for i in range(1,n):\n",
    "            c=1\n",
    "            while(s2.isempty()==0):\n",
    "                s1.push(s2.pop())\n",
    "            s1.push(price[i-1])\n",
    "            print(price[i],s1.arr,s2.arr)\n",
    "            while(s1.stacktop() < price[i]):\n",
    "                ele = s1.pop()\n",
    "                if(ele==-1):\n",
    "                    break\n",
    "                else:\n",
    "                    c+=1\n",
    "                    s2.push(ele)\n",
    "            print(price[i],s1.arr,s2.arr)\n",
    "            res.append(c)\n",
    "        return res\n",
    "if __name__=='__main__':\n",
    "    t=int(input())\n",
    "    for i in range(t):\n",
    "        n=int(input())\n",
    "        arr = list(map(int,input().split()))\n",
    "        obj=Solution()\n",
    "        res = obj.stockspanproblem(arr,n)\n",
    "        print(res)"
   ]
  },
  {
   "cell_type": "code",
   "execution_count": null,
   "metadata": {},
   "outputs": [],
   "source": [
    "class Stack:\n",
    "    def __init__(self,n):\n",
    "        self.arr = [0]*n\n",
    "        self.max_size = n\n",
    "        self.top=-1\n",
    "    def push(self,ele):\n",
    "        self.top+=1\n",
    "        self.arr[self.top] = ele\n",
    "    def pop(self):\n",
    "        if(self.top==-1):\n",
    "            ele=-1\n",
    "        else:\n",
    "            ele = self.arr[self.top]\n",
    "            self.top-=1\n",
    "        return ele\n",
    "    def stacktop(self):\n",
    "        if(self.top==-1):\n",
    "            return -1\n",
    "        else:\n",
    "            return self.arr[self.top]\n",
    "    def isempty(self):\n",
    "        if(self.top==-1):\n",
    "            return 1\n",
    "        else:\n",
    "            return 0\n",
    "class Solution:\n",
    "    def stockspanproblem(self,price,n):\n",
    "        res = [1]\n",
    "        s1 = Stack(n)\n",
    "        s2 = Stack(n)\n",
    "        for i in range(1,n):\n",
    "            c=1\n",
    "            while(s2.isempty()==0):\n",
    "                s1.push(s2.pop())\n",
    "            s1.push(arr[i-1])\n",
    "            while(s1.stacktop() < price[i]):\n",
    "                ele = s1.pop()\n",
    "                if(ele==-1):\n",
    "                    break\n",
    "                else:\n",
    "                    c+=1\n",
    "                    s2.push(ele)\n",
    "            res.append(c)\n",
    "        return res\n",
    "if __name__=='__main__':\n",
    "    t=int(input())\n",
    "    for i in range(t):\n",
    "        n=int(input())\n",
    "        arr = list(map(int,input().split()))\n",
    "        obj=Solution()\n",
    "        res = obj.stockspanproblem(arr,n)\n",
    "        print(res)"
   ]
  },
  {
   "cell_type": "code",
   "execution_count": 23,
   "metadata": {
    "scrolled": true
   },
   "outputs": [
    {
     "name": "stdout",
     "output_type": "stream",
     "text": [
      "1\n",
      "6\n",
      "10 4 5 90 120 80\n",
      "[1, 1, 2, 4, 5, 1]\n"
     ]
    }
   ],
   "source": [
    "class Stack:\n",
    "    def __init__(self,n):\n",
    "        self.arr = [[0]*2 for i in range(n)]\n",
    "        self.max_size = n\n",
    "        self.top=-1\n",
    "    def push(self,ele):\n",
    "        self.top+=1\n",
    "        self.arr[self.top] = ele\n",
    "    def pop(self):\n",
    "        if(self.top==-1):\n",
    "            ele=-1\n",
    "        else:\n",
    "            ele = self.arr[self.top]\n",
    "            self.top-=1\n",
    "        return ele\n",
    "    def stacktop(self):\n",
    "        return self.arr[self.top]\n",
    "    def isempty(self):\n",
    "        if(self.top==-1):\n",
    "            return 1\n",
    "        else:\n",
    "            return 0\n",
    "class Solution:\n",
    "    def stockspanproblem(self,arr,n):\n",
    "        res = [-1]\n",
    "        s1 = Stack(n)\n",
    "        for i in range(1,n):\n",
    "            s1.push([arr[i-1],i-1])\n",
    "            while(s1.stacktop()[0]<=arr[i]):\n",
    "                if(s1.pop()==-1):\n",
    "                    res.append(-1)\n",
    "                    break\n",
    "            if(s1.stacktop()[0]>arr[i]):\n",
    "                res.append(s1.stacktop()[1])\n",
    "        ans=[]\n",
    "        for i in range(n):\n",
    "            ans.append(i-res[i])\n",
    "        return ans\n",
    "if __name__=='__main__':\n",
    "    t=int(input())\n",
    "    for i in range(t):\n",
    "        n=int(input())\n",
    "        arr = list(map(int,input().split()))\n",
    "        obj=Solution()\n",
    "        res = obj.stockspanproblem(arr,n)\n",
    "        print(res)"
   ]
  },
  {
   "cell_type": "code",
   "execution_count": 14,
   "metadata": {},
   "outputs": [
    {
     "ename": "SyntaxError",
     "evalue": "invalid syntax (<ipython-input-14-dac45043b55f>, line 1)",
     "output_type": "error",
     "traceback": [
      "\u001b[1;36m  File \u001b[1;32m\"<ipython-input-14-dac45043b55f>\"\u001b[1;36m, line \u001b[1;32m1\u001b[0m\n\u001b[1;33m    74 665 742 512 254 469 748 445 663 758 38 60 724 142 330 779 317 636 591 243 289 507 241 143 65 249 247 606 691 330 371 151 607 702 394 349 430 624 85 755 357 641 167 177 332 709 145 440 627 124 738 739 119 483 530 542 34 716 640 59 305 331 378 707 474 787 222 746 525 673 671 230 378 374 298 513 787 491 362 237 756 768 456 375 32 53 151 351 142 125 367 231 708 592 408 138 258 288 554 784 546 110 210 159 222 189 23 147 307 231 414 369 101 592 363 56 611 760 425 538 749 84 396 42 403 351 692 4.................\u001b[0m\n\u001b[1;37m         ^\u001b[0m\n\u001b[1;31mSyntaxError\u001b[0m\u001b[1;31m:\u001b[0m invalid syntax\n"
     ]
    }
   ],
   "source": [
    "class Stack:\n",
    "    def __init__(self,n):\n",
    "        self.arr = [[0]*2 for i in range(n)]\n",
    "        self.max_size = n\n",
    "        self.top=-1\n",
    "    def push(self,ele):\n",
    "        self.top+=1\n",
    "        self.arr[self.top] = ele\n",
    "    def pop(self):\n",
    "        if(self.top==-1):\n",
    "            ele=-1\n",
    "        else:\n",
    "            ele = self.arr[self.top]\n",
    "            self.top-=1\n",
    "        return ele\n",
    "    def stacktop(self):\n",
    "        return self.arr[self.top]\n",
    "    def isempty(self):\n",
    "        if(self.top==-1):\n",
    "            return 1\n",
    "        else:\n",
    "            return 0\n",
    "class Solution:\n",
    "    def stockspanproblem(self,arr,n):\n",
    "        res = [-1]\n",
    "        s1 = Stack(n)\n",
    "        for i in range(1,n):\n",
    "            s1.push([arr[i-1],i-1])\n",
    "            while(s1.stacktop()[0]<=arr[i]):\n",
    "                if(s1.pop()==-1):\n",
    "                    res.append(-1)\n",
    "                    break\n",
    "            if(s1.stacktop()[0]>arr[i]):\n",
    "                res.append(s1.stacktop()[1])\n",
    "            print(arr[i],s1.arr,res)\n",
    "        ans=[]\n",
    "        for i in range(n):\n",
    "            ans.append(i-res[i])\n",
    "        return ans\n",
    "if __name__=='__main__':\n",
    "    t=int(input())\n",
    "    for i in range(t):\n",
    "        n=int(input())\n",
    "        arr = list(map(int,input().split()))\n",
    "        obj=Solution()\n",
    "        res = obj.stockspanproblem(arr,n)\n",
    "        print(res)"
   ]
  },
  {
   "cell_type": "code",
   "execution_count": 12,
   "metadata": {},
   "outputs": [
    {
     "data": {
      "text/plain": [
       "2"
      ]
     },
     "execution_count": 12,
     "metadata": {},
     "output_type": "execute_result"
    }
   ],
   "source": [
    "l = [20,20,30,40]\n",
    "l[::-1].index(20,0)"
   ]
  },
  {
   "cell_type": "code",
   "execution_count": 25,
   "metadata": {},
   "outputs": [
    {
     "name": "stdout",
     "output_type": "stream",
     "text": [
      "[-1, 100, 80, 80, 70, 80, 100]\n"
     ]
    }
   ],
   "source": [
    "def NGL(arr):\n",
    "    stack=[[0]*2 for i in range(n)]\n",
    "    v=[]\n",
    "    for i in range(len(arr)):\n",
    "        if len(stack)==0:\n",
    "            v.append(-1)\n",
    "        elif len(stack)>0 and stack[-1]>arr[i]:\n",
    "            v.append(stack[-1][])\n",
    "        elif len(stack)>0 and stack[-1]<=arr[i]:\n",
    "            while len(stack) and stack[-1]<=arr[i]:\n",
    "                stack.pop()\n",
    "            if len(stack)==0:\n",
    "                v.append(-1)\n",
    "            else:\n",
    "                v.append(stack[-1])\n",
    "        stack.append([arr[i],i])\n",
    "    return v\n",
    "arr = [100,80,60,70,60,75,85]\n",
    "print(NGL(arr))"
   ]
  },
  {
   "cell_type": "code",
   "execution_count": 4,
   "metadata": {},
   "outputs": [
    {
     "name": "stdout",
     "output_type": "stream",
     "text": [
      "1\n",
      "6\n",
      "10 4 5 90 120 80\n",
      "[1, 1, 2, 4, 5, 1]\n"
     ]
    }
   ],
   "source": [
    "class Solution:\n",
    "    def calculateSpan(self,arr,n):\n",
    "        stack = [[0]*2 for i in range(n)]\n",
    "        res = []\n",
    "        for i in range(n):\n",
    "            if(len(stack)==0):\n",
    "                res.append(-1)\n",
    "            elif(len(stack)!=0 and stack[-1][0]>arr[i]):\n",
    "                res.append(stack[-1][1])\n",
    "            elif(len(stack)!=0 and stack[-1][0]<=arr[i]):\n",
    "                while(len(stack)!=0 and stack[-1][0]<=arr[i]):\n",
    "                    stack.pop()\n",
    "                if(len(stack)==0):\n",
    "                    res.append(-1)\n",
    "                else:\n",
    "                    res.append(stack[-1][1])\n",
    "            stack.append([arr[i],i])\n",
    "        ans=[]\n",
    "        for i in range(n):\n",
    "            ans.append(i-res[i])\n",
    "        return ans\n",
    "if __name__=='__main__':\n",
    "    t=int(input())\n",
    "    for i in range(t):\n",
    "        n=int(input())\n",
    "        arr=list(map(int,input().split()))\n",
    "        obj = Solution()\n",
    "        ans=obj.calculateSpan(arr,n)\n",
    "        print(ans)"
   ]
  },
  {
   "cell_type": "code",
   "execution_count": 7,
   "metadata": {},
   "outputs": [],
   "source": [
    "ans = [i for i in range(n)] + res"
   ]
  },
  {
   "cell_type": "code",
   "execution_count": 8,
   "metadata": {},
   "outputs": [
    {
     "data": {
      "text/plain": [
       "[0, 1, 2, 3, 4, 5, 6, -1, 0, 1, 1, 3, 1, 0]"
      ]
     },
     "execution_count": 8,
     "metadata": {},
     "output_type": "execute_result"
    }
   ],
   "source": [
    "ans"
   ]
  },
  {
   "cell_type": "code",
   "execution_count": 7,
   "metadata": {},
   "outputs": [
    {
     "name": "stdout",
     "output_type": "stream",
     "text": [
      "1\n",
      "6\n",
      "10 4 5 90 120 80\n",
      "[1, 1, 2, 4, 5, 1]\n"
     ]
    }
   ],
   "source": [
    "class Stack:\n",
    "    def __init__(self,n):\n",
    "        self.arr = [[0]*2 for i in range(n)]\n",
    "        self.max_size = n\n",
    "        self.top=-1\n",
    "    def push(self,ele):\n",
    "        self.top+=1\n",
    "        self.arr[self.top] = ele\n",
    "    def pop(self):\n",
    "        if(self.top==-1):\n",
    "            ele=-1\n",
    "        else:\n",
    "            ele = self.arr[self.top]\n",
    "            self.top-=1\n",
    "        return ele\n",
    "    def stacktop(self):\n",
    "        return self.arr[self.top]\n",
    "    def isempty(self):\n",
    "        if(self.top==-1):\n",
    "            return 1\n",
    "        else:\n",
    "            return 0\n",
    "class Solution:\n",
    "    def calculateSpan(self,arr,n):\n",
    "        stack = Stack(n)\n",
    "        res = []\n",
    "        for i in range(n):\n",
    "            if(stack.isempty()==1):\n",
    "                res.append(-1)\n",
    "            elif(stack.isempty()==0 and stack.stacktop()[0]>arr[i]):\n",
    "                res.append(stack.stacktop()[1])\n",
    "            elif(stack.isempty()==0 and stack.stacktop()[0]<=arr[i]):\n",
    "                while(stack.isempty()==0 and stack.stacktop()[0]<=arr[i]):\n",
    "                    stack.pop()\n",
    "                if(stack.isempty()==1):\n",
    "                    res.append(-1)\n",
    "                else:\n",
    "                    res.append(stack.stacktop()[1])\n",
    "            stack.push([arr[i],i])\n",
    "        ans=[]\n",
    "        for i in range(n):\n",
    "            ans.append(i-res[i])\n",
    "        return ans\n",
    "if __name__=='__main__':\n",
    "    t=int(input())\n",
    "    for i in range(t):\n",
    "        n=int(input())\n",
    "        arr=list(map(int,input().split()))\n",
    "        obj = Solution()\n",
    "        ans=obj.calculateSpan(arr,n)\n",
    "        print(ans)"
   ]
  },
  {
   "cell_type": "code",
   "execution_count": 15,
   "metadata": {},
   "outputs": [
    {
     "name": "stdout",
     "output_type": "stream",
     "text": [
      "1\n",
      "4\n",
      "1 3 2 4\n",
      "[1, 2, 1, 4]\n"
     ]
    }
   ],
   "source": [
    "class Solution:\n",
    "    def calculateSpan(self,arr,n):\n",
    "        stack = []\n",
    "        res = []\n",
    "        for i in range(n):\n",
    "            if(len(stack)==0):\n",
    "                res.append(-1)\n",
    "            elif(len(stack)!=0 and stack[-1][0]>arr[i]):\n",
    "                res.append(stack[-1][1])\n",
    "            elif(len(stack)!=0 and stack[-1][0]<=arr[i]):\n",
    "                while(len(stack)!=0 and stack[-1][0]<=arr[i]):\n",
    "                    stack.pop()\n",
    "                if(len(stack)==0):\n",
    "                    res.append(-1)\n",
    "                else:\n",
    "                    res.append(stack[-1][1])\n",
    "            stack.append([arr[i],i])\n",
    "        ans=[]\n",
    "        for i in range(n):\n",
    "            ans.append(i-res[i])\n",
    "        return ans\n",
    "if __name__=='__main__':\n",
    "    t=int(input())\n",
    "    for i in range(t):\n",
    "        n=int(input())\n",
    "        arr=list(map(int,input().split()))\n",
    "        obj = Solution()\n",
    "        ans=obj.calculateSpan(arr,n)\n",
    "        print(ans)"
   ]
  },
  {
   "cell_type": "code",
   "execution_count": 13,
   "metadata": {},
   "outputs": [
    {
     "name": "stdout",
     "output_type": "stream",
     "text": [
      "1\n",
      "4\n",
      "1 3 2 4\n",
      "[1, 2, 1, 4]\n"
     ]
    }
   ],
   "source": []
  },
  {
   "cell_type": "code",
   "execution_count": 10,
   "metadata": {},
   "outputs": [
    {
     "ename": "KeyError",
     "evalue": "-1",
     "output_type": "error",
     "traceback": [
      "\u001b[1;31m---------------------------------------------------------------------------\u001b[0m",
      "\u001b[1;31mKeyError\u001b[0m                                  Traceback (most recent call last)",
      "\u001b[1;32m<ipython-input-10-5a17238aa598>\u001b[0m in \u001b[0;36m<module>\u001b[1;34m\u001b[0m\n\u001b[0;32m      1\u001b[0m \u001b[0mstack\u001b[0m\u001b[1;33m=\u001b[0m\u001b[1;33m{\u001b[0m\u001b[1;36m1\u001b[0m\u001b[1;33m:\u001b[0m\u001b[1;36m4\u001b[0m\u001b[1;33m,\u001b[0m\u001b[1;36m3\u001b[0m\u001b[1;33m:\u001b[0m\u001b[1;36m5\u001b[0m\u001b[1;33m}\u001b[0m\u001b[1;33m\u001b[0m\u001b[1;33m\u001b[0m\u001b[0m\n\u001b[1;32m----> 2\u001b[1;33m \u001b[0mstack\u001b[0m\u001b[1;33m[\u001b[0m\u001b[1;33m-\u001b[0m\u001b[1;36m1\u001b[0m\u001b[1;33m]\u001b[0m\u001b[1;33m\u001b[0m\u001b[1;33m\u001b[0m\u001b[0m\n\u001b[0m",
      "\u001b[1;31mKeyError\u001b[0m: -1"
     ]
    }
   ],
   "source": []
  },
  {
   "cell_type": "code",
   "execution_count": null,
   "metadata": {},
   "outputs": [],
   "source": []
  }
 ],
 "metadata": {
  "kernelspec": {
   "display_name": "Python 3",
   "language": "python",
   "name": "python3"
  },
  "language_info": {
   "codemirror_mode": {
    "name": "ipython",
    "version": 3
   },
   "file_extension": ".py",
   "mimetype": "text/x-python",
   "name": "python",
   "nbconvert_exporter": "python",
   "pygments_lexer": "ipython3",
   "version": "3.7.6"
  }
 },
 "nbformat": 4,
 "nbformat_minor": 4
}
