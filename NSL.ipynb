{
 "cells": [
  {
   "cell_type": "code",
   "execution_count": 4,
   "metadata": {},
   "outputs": [
    {
     "name": "stdout",
     "output_type": "stream",
     "text": [
      "1\n",
      "4\n",
      "1 4 3 2\n",
      "4 [1, 0, 0, 0] [-1, 1]\n",
      "3 [1, 4, 0, 0] [-1, 1, 1]\n",
      "2 [1, 3, 0, 0] [-1, 1, 1, 1]\n",
      "-1 1 1 1 "
     ]
    }
   ],
   "source": [
    "class Stack:\n",
    "    def __init__(self,n):\n",
    "        self.max_size = n\n",
    "        self.arr = [0]*n\n",
    "        self.top = -1\n",
    "    def push(self,ele):\n",
    "        self.top+=1\n",
    "        self.arr[self.top] = ele\n",
    "    def pop(self):\n",
    "        if(self.top==-1):\n",
    "            ele=-1\n",
    "        else:\n",
    "            ele = self.arr[self.top]\n",
    "            self.top-=1\n",
    "        return ele\n",
    "    def stacktop(self):\n",
    "        if(self.top==-1):\n",
    "            return -1\n",
    "        else:\n",
    "            return self.arr[self.top]\n",
    "    def isempty(self):\n",
    "        if(self.top==-1):\n",
    "            return 1\n",
    "        else:\n",
    "            return 0\n",
    "class Solution:\n",
    "    def NSL(self,arr,n):\n",
    "        res=[-1]\n",
    "        s1 = Stack(n)\n",
    "        for i in range(1,n):\n",
    "            s1.push(arr[i-1])\n",
    "            while(s1.stacktop() >= arr[i]):\n",
    "                if(s1.pop()==-1):\n",
    "                    res.append(-1)\n",
    "                    break\n",
    "            if(s1.stacktop() < arr[i]):\n",
    "                res.append(s1.stacktop())\n",
    "            print(arr[i],s1.arr,res)\n",
    "        return res\n",
    "\n",
    "if __name__ == \"__main__\":\n",
    "    t=int(input())\n",
    "    for i in range(t):\n",
    "        n = int(input())\n",
    "        arr = list(map(int,input().split()))\n",
    "        obj = Solution()\n",
    "        res = obj.NSL(arr,n)\n",
    "        for i in res:\n",
    "            print(i,end=' ')"
   ]
  },
  {
   "cell_type": "code",
   "execution_count": null,
   "metadata": {},
   "outputs": [],
   "source": []
  }
 ],
 "metadata": {
  "kernelspec": {
   "display_name": "Python 3",
   "language": "python",
   "name": "python3"
  },
  "language_info": {
   "codemirror_mode": {
    "name": "ipython",
    "version": 3
   },
   "file_extension": ".py",
   "mimetype": "text/x-python",
   "name": "python",
   "nbconvert_exporter": "python",
   "pygments_lexer": "ipython3",
   "version": "3.7.6"
  }
 },
 "nbformat": 4,
 "nbformat_minor": 4
}
