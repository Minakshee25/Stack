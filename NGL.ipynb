{
 "cells": [
  {
   "cell_type": "code",
   "execution_count": 8,
   "metadata": {},
   "outputs": [
    {
     "ename": "SyntaxError",
     "evalue": "invalid syntax (<ipython-input-8-fcd4be4b619b>, line 27)",
     "output_type": "error",
     "traceback": [
      "\u001b[1;36m  File \u001b[1;32m\"<ipython-input-8-fcd4be4b619b>\"\u001b[1;36m, line \u001b[1;32m27\u001b[0m\n\u001b[1;33m    for i in range()\u001b[0m\n\u001b[1;37m                    ^\u001b[0m\n\u001b[1;31mSyntaxError\u001b[0m\u001b[1;31m:\u001b[0m invalid syntax\n"
     ]
    }
   ],
   "source": [
    "class Stack():\n",
    "    def __init__(self,n):\n",
    "        self.max_size = n\n",
    "        self.arr = [0]*n\n",
    "        self.top = -1\n",
    "    def push(self,ele):\n",
    "        self.top+=1\n",
    "        self.arr[self.top] = ele\n",
    "        return\n",
    "    def pop(self,ele):\n",
    "        if(self.top==-1):\n",
    "            return -1\n",
    "        else:\n",
    "            ele= self.arr[self.top]\n",
    "            self.top-=1\n",
    "            return ele\n",
    "    def stacktop(self):\n",
    "        if(self.top==-1):\n",
    "            return -1\n",
    "        else:\n",
    "            return self.arr[self.top]\n",
    "\n",
    "class Solution():\n",
    "    def NGL(self,arr,n):\n",
    "        res = [-1]\n",
    "        s1 = Stack(n)\n",
    "        for i in range()\n",
    "\n",
    "if __name__ == '__main__':\n",
    "    t=int(input())\n",
    "    for i in range(t):\n",
    "        n=int(input())\n",
    "        arr = list(map(int,input().split()))\n",
    "        obj = Solution()\n",
    "        res = obj.NGL(arr,n)\n",
    "        for i in res:\n",
    "            print(i,end=' ')"
   ]
  },
  {
   "cell_type": "code",
   "execution_count": 3,
   "metadata": {},
   "outputs": [
    {
     "name": "stdout",
     "output_type": "stream",
     "text": [
      "1\n",
      "6\n",
      "10 4 5 90 120 80\n",
      "4 [10, 0, 0, 0, 0, 0] [-1]\n",
      "5 [10, 4, 0, 0, 0, 0] [-1, 10]\n",
      "4 90\n",
      "10 90\n",
      "90 [5, 4, 0, 0, 0, 0] [-1, 10]\n",
      "5 120\n",
      "120 [90, 4, 0, 0, 0, 0] [-1, 10]\n",
      "80 [90, 120, 0, 0, 0, 0] [-1, 10, 90]\n",
      "-1 10 90 "
     ]
    }
   ],
   "source": [
    "class Stack():\n",
    "    def __init__(self,n):\n",
    "        self.max_size = n\n",
    "        self.arr = [0]*n\n",
    "        self.top = -1\n",
    "    def push(self,ele):\n",
    "        self.top+=1\n",
    "        self.arr[self.top] = ele\n",
    "        return\n",
    "    def pop(self):\n",
    "        if(self.top==-1):\n",
    "            return -1\n",
    "        else:\n",
    "            ele= self.arr[self.top]\n",
    "            self.top-=1\n",
    "            return ele\n",
    "    def stacktop(self):\n",
    "        if(self.top==-1):\n",
    "            return -1\n",
    "        else:\n",
    "            return self.arr[self.top]\n",
    "\n",
    "class Solution():\n",
    "    def NGL(self,arr,n):\n",
    "        res = [-1]\n",
    "        s1 = Stack(n)\n",
    "        for i in range(1,n):\n",
    "            s1.push(arr[i-1])\n",
    "            while(s1.stacktop()!=-1 and s1.stacktop()<=arr[i]):\n",
    "                print(s1.stacktop(),arr[i])\n",
    "                if(s1.pop()==-1):\n",
    "                    res.append(-1)\n",
    "                    break\n",
    "            if(s1.stacktop()>arr[i]):\n",
    "                res.append(s1.stacktop())\n",
    "            print(arr[i],s1.arr,res)\n",
    "        return res\n",
    "\n",
    "if __name__ == '__main__':\n",
    "    t=int(input())\n",
    "    for i in range(t):\n",
    "        n=int(input())\n",
    "        arr = list(map(int,input().split()))\n",
    "        obj = Solution()\n",
    "        res = obj.NGL(arr,n)\n",
    "        for i in res:\n",
    "            print(i,end=' ')"
   ]
  },
  {
   "cell_type": "code",
   "execution_count": 5,
   "metadata": {},
   "outputs": [
    {
     "name": "stdout",
     "output_type": "stream",
     "text": [
      "1\n",
      "4\n",
      "1 3 2 4\n",
      "[-1, -1, 3, -1]\n"
     ]
    }
   ],
   "source": [
    "class Solution:\n",
    "    def NGL(self,arr,n):\n",
    "        stack=[]\n",
    "        res = []\n",
    "        for i in range(0,n):\n",
    "            if(len(stack)==0):\n",
    "                res.append(-1)\n",
    "            elif(len(stack)!=0 and stack[-1]>arr[i]):\n",
    "                res.append(stack[-1])\n",
    "            elif(len(stack)!=0 and stack[-1]<=arr[i]):\n",
    "                while(len(stack)!=0 and stack[-1]<=arr[i]):\n",
    "                    stack.pop()\n",
    "                if(len(stack)==0):\n",
    "                    res.append(-1)\n",
    "                else:\n",
    "                    res.append(stack[-1])\n",
    "            stack.append(arr[i])\n",
    "        return res\n",
    "if __name__=='__main__':\n",
    "    t=int(input())\n",
    "    for i in range(t):\n",
    "        n=int(input())\n",
    "        arr=list(map(int,input().split()))\n",
    "        obj = Solution()\n",
    "        res=obj.NGL(arr,n)\n",
    "        print(res)"
   ]
  },
  {
   "cell_type": "code",
   "execution_count": null,
   "metadata": {},
   "outputs": [],
   "source": []
  }
 ],
 "metadata": {
  "kernelspec": {
   "display_name": "Python 3",
   "language": "python",
   "name": "python3"
  },
  "language_info": {
   "codemirror_mode": {
    "name": "ipython",
    "version": 3
   },
   "file_extension": ".py",
   "mimetype": "text/x-python",
   "name": "python",
   "nbconvert_exporter": "python",
   "pygments_lexer": "ipython3",
   "version": "3.7.6"
  }
 },
 "nbformat": 4,
 "nbformat_minor": 4
}
