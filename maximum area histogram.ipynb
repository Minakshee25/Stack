{
 "cells": [
  {
   "cell_type": "code",
   "execution_count": 6,
   "metadata": {},
   "outputs": [
    {
     "data": {
      "text/plain": [
       "[4, 2, 4, 4]"
      ]
     },
     "execution_count": 6,
     "metadata": {},
     "output_type": "execute_result"
    }
   ],
   "source": [
    "class Stack:\n",
    "    def __init__(self,n):\n",
    "        self.arr = []\n",
    "        self.index = []\n",
    "a=[1,3,2,4]\n",
    "n=len(a)\n",
    "res=[]\n",
    "stack=Stack(n)\n",
    "for i in range(n-1,-1,-1):\n",
    "    if(len(stack.arr)==0):\n",
    "        res.append(n)\n",
    "    elif(len(stack.arr)!=0 and stack.arr[-1]<a[i]):\n",
    "        res.append(stack.index[-1])\n",
    "    elif(len(stack.arr)!=0 and stack.arr[-1]>=a[i]):\n",
    "        while(len(stack.arr)!=0 and stack.arr[-1]>=a[i]):\n",
    "            stack.arr.pop()\n",
    "            stack.index.pop()\n",
    "        if(len(stack.arr)==0):\n",
    "            res.append(n)\n",
    "        else:\n",
    "            res.append(stack.index[-1])\n",
    "    stack.arr.append(a[i])\n",
    "    stack.index.append(i)\n",
    "res[::-1] "
   ]
  },
  {
   "cell_type": "code",
   "execution_count": 5,
   "metadata": {},
   "outputs": [
    {
     "data": {
      "text/plain": [
       "[4, 2, 4, 4]"
      ]
     },
     "execution_count": 5,
     "metadata": {},
     "output_type": "execute_result"
    }
   ],
   "source": [
    "#nsr\n",
    "a=[1,3,2,4]\n",
    "n=len(a)\n",
    "res=[]\n",
    "stack=[]\n",
    "for i in range(n-1,-1,-1):\n",
    "    if(len(stack)==0):\n",
    "        res.append(n)\n",
    "    elif(len(stack)!=0 and stack[-1][0]<a[i]):\n",
    "        res.append(stack[-1][1])\n",
    "    elif(len(stack)!=0 and stack[-1][0]>=a[i]):\n",
    "        while(len(stack)!=0 and stack[-1][0]>=a[i]):\n",
    "            stack.pop()\n",
    "        if(len(stack)==0):\n",
    "            res.append(n)\n",
    "        else:\n",
    "            res.append(stack[-1][1])\n",
    "    stack.append([a[i],i])\n",
    "res[::-1] "
   ]
  },
  {
   "cell_type": "code",
   "execution_count": 3,
   "metadata": {},
   "outputs": [
    {
     "data": {
      "text/plain": [
       "[-1, 0, 0, 2]"
      ]
     },
     "execution_count": 3,
     "metadata": {},
     "output_type": "execute_result"
    }
   ],
   "source": [
    "class Stack:\n",
    "    def __init__(self,n):\n",
    "        self.arr = []\n",
    "        self.index = []\n",
    "a=[1,3,2,4]\n",
    "n=len(a)\n",
    "res=[]\n",
    "stack=Stack(n)\n",
    "for i in range(n):\n",
    "    if(len(stack.arr)==0):\n",
    "        res.append(-1)\n",
    "    elif(len(stack.arr)!=0 and stack.arr[-1]<a[i]):\n",
    "        res.append(stack.index[-1])\n",
    "    elif(len(stack.arr)!=0 and stack.arr[-1]>=a[i]):\n",
    "        while(len(stack.arr)!=0 and stack.arr[-1]>=a[i]):\n",
    "            stack.arr.pop()\n",
    "            stack.index.pop()\n",
    "        if(len(stack.arr)==0):\n",
    "            res.append(-1)\n",
    "        else:\n",
    "            res.append(stack.index[-1])\n",
    "    stack.arr.append(a[i])\n",
    "    stack.index.append(i)\n",
    "res"
   ]
  },
  {
   "cell_type": "code",
   "execution_count": 6,
   "metadata": {},
   "outputs": [
    {
     "data": {
      "text/plain": [
       "[-1, 0, 0, 2]"
      ]
     },
     "execution_count": 6,
     "metadata": {},
     "output_type": "execute_result"
    }
   ],
   "source": [
    "#nsl\n",
    "a=[1,3,2,4]\n",
    "n=len(a)\n",
    "res=[]\n",
    "stack=[]\n",
    "for i in range(n):\n",
    "    if(len(stack)==0):\n",
    "        res.append(-1)\n",
    "    elif(len(stack)!=0 and stack[-1][0]<a[i]):\n",
    "        res.append(stack[-1][1])\n",
    "    elif(len(stack)!=0 and stack[-1][0]>=a[i]):\n",
    "        while(len(stack)!=0 and stack[-1][0]>=a[i]):\n",
    "            stack.pop()\n",
    "        if(len(stack)==0):\n",
    "            res.append(-1)\n",
    "        else:\n",
    "            res.append(stack[-1][1])\n",
    "    stack.append([a[i],i])\n",
    "res"
   ]
  },
  {
   "cell_type": "code",
   "execution_count": 7,
   "metadata": {},
   "outputs": [
    {
     "name": "stdout",
     "output_type": "stream",
     "text": [
      "1\n",
      "7\n",
      "6 2 5 4 5 1 6\n",
      "12\n"
     ]
    }
   ],
   "source": [
    "class Stack:\n",
    "    def __init__(self,n):\n",
    "        self.arr = []\n",
    "        self.index = []\n",
    "class Solution:\n",
    "    def NSR(self,a,n):\n",
    "        res=[]\n",
    "        stack=Stack(n)\n",
    "        for i in range(n-1,-1,-1):\n",
    "            if(len(stack.arr)==0):\n",
    "                res.append(n)\n",
    "            elif(len(stack.arr)!=0 and stack.arr[-1]<a[i]):\n",
    "                res.append(stack.index[-1])\n",
    "            elif(len(stack.arr)!=0 and stack.arr[-1]>=a[i]):\n",
    "                while(len(stack.arr)!=0 and stack.arr[-1]>=a[i]):\n",
    "                    stack.arr.pop()\n",
    "                    stack.index.pop()\n",
    "                if(len(stack.arr)==0):\n",
    "                    res.append(n)\n",
    "                else:\n",
    "                    res.append(stack.index[-1])\n",
    "            stack.arr.append(a[i])\n",
    "            stack.index.append(i)\n",
    "        return res[::-1] \n",
    "\n",
    "    def NSL(self,a,n):\n",
    "        res=[]\n",
    "        stack=Stack(n)\n",
    "        for i in range(n):\n",
    "            if(len(stack.arr)==0):\n",
    "                res.append(-1)\n",
    "            elif(len(stack.arr)!=0 and stack.arr[-1]<a[i]):\n",
    "                res.append(stack.index[-1])\n",
    "            elif(len(stack.arr)!=0 and stack.arr[-1]>=a[i]):\n",
    "                while(len(stack.arr)!=0 and stack.arr[-1]>=a[i]):\n",
    "                    stack.arr.pop()\n",
    "                    stack.index.pop()\n",
    "                if(len(stack.arr)==0):\n",
    "                    res.append(-1)\n",
    "                else:\n",
    "                    res.append(stack.index[-1])\n",
    "            stack.arr.append(a[i])\n",
    "            stack.index.append(i)\n",
    "        return res\n",
    "\n",
    "    #Function to find largest rectangular area possible in a given histogram.\n",
    "    def getMaxArea(self,histogram):\n",
    "        #code here\n",
    "        n=len(histogram)\n",
    "        nsr = self.NSR(histogram,n)\n",
    "        nsl = self.NSL(histogram,n)\n",
    "        width=[]\n",
    "        for i in range(n):\n",
    "            width.append(nsr[i] -nsl[i] -1)\n",
    "        area=[]\n",
    "        for i in range(n):\n",
    "            area.append(width[i]*histogram[i])\n",
    "        return max(area)\n",
    "#{ \n",
    "#  Driver Code Starts\n",
    "#Initial Template for Python 3\n",
    "\n",
    "# by Jinay Shah \n",
    "\n",
    "if __name__ == '__main__':\n",
    "    test_cases = int(input())\n",
    "    for cases in range(test_cases) :\n",
    "        n = int(input())\n",
    "        a = list(map(int,input().strip().split()))\n",
    "        ob=Solution()\n",
    "        print(ob.getMaxArea(a))\n",
    "# } Driver Code Ends"
   ]
  },
  {
   "cell_type": "code",
   "execution_count": 9,
   "metadata": {},
   "outputs": [
    {
     "name": "stdout",
     "output_type": "stream",
     "text": [
      "1\n",
      "7\n",
      "6 2 5 4 5 1 6\n",
      "12\n"
     ]
    }
   ],
   "source": [
    "class Solution:\n",
    "    def NSR(self,a,n):\n",
    "        res=[]\n",
    "        stack=[]\n",
    "        for i in range(n-1,-1,-1):\n",
    "            if(len(stack)==0):\n",
    "                res.append(n)\n",
    "            elif(len(stack)!=0 and stack[-1][0]<a[i]):\n",
    "                res.append(stack[-1][1])\n",
    "            elif(len(stack)!=0 and stack[-1][0]>=a[i]):\n",
    "                while(len(stack)!=0 and stack[-1][0]>=a[i]):\n",
    "                    stack.pop()\n",
    "                if(len(stack)==0):\n",
    "                    res.append(n)\n",
    "                else:\n",
    "                    res.append(stack[-1][1])\n",
    "            stack.append([a[i],i])\n",
    "        return res[::-1] \n",
    "\n",
    "    def NSL(self,a,n):\n",
    "        res=[]\n",
    "        stack=[]\n",
    "        for i in range(n):\n",
    "            if(len(stack)==0):\n",
    "                res.append(-1)\n",
    "            elif(len(stack)!=0 and stack[-1][0]<a[i]):\n",
    "                res.append(stack[-1][1])\n",
    "            elif(len(stack)!=0 and stack[-1][0]>=a[i]):\n",
    "                while(len(stack)!=0 and stack[-1][0]>=a[i]):\n",
    "                    stack.pop()\n",
    "                if(len(stack)==0):\n",
    "                    res.append(-1)\n",
    "                else:\n",
    "                    res.append(stack[-1][1])\n",
    "            stack.append([a[i],i])\n",
    "        return res\n",
    "\n",
    "    #Function to find largest rectangular area possible in a given histogram.\n",
    "    def getMaxArea(self,histogram):\n",
    "        #code here\n",
    "        n=len(histogram)\n",
    "        nsr = self.NSR(histogram,n)\n",
    "        nsl = self.NSL(histogram,n)\n",
    "        width=[]\n",
    "        for i in range(n):\n",
    "            width.append(nsr[i] -nsl[i] -1)\n",
    "        area=[]\n",
    "        for i in range(n):\n",
    "            area.append(width[i]*histogram[i])\n",
    "        return max(area)\n",
    "#{ \n",
    "#  Driver Code Starts\n",
    "#Initial Template for Python 3\n",
    "\n",
    "# by Jinay Shah \n",
    "\n",
    "if __name__ == '__main__':\n",
    "    test_cases = int(input())\n",
    "    for cases in range(test_cases) :\n",
    "        n = int(input())\n",
    "        a = list(map(int,input().strip().split()))\n",
    "        ob=Solution()\n",
    "        print(ob.getMaxArea(a))\n",
    "# } Driver Code Ends"
   ]
  },
  {
   "cell_type": "code",
   "execution_count": null,
   "metadata": {},
   "outputs": [],
   "source": []
  }
 ],
 "metadata": {
  "kernelspec": {
   "display_name": "Python 3",
   "language": "python",
   "name": "python3"
  },
  "language_info": {
   "codemirror_mode": {
    "name": "ipython",
    "version": 3
   },
   "file_extension": ".py",
   "mimetype": "text/x-python",
   "name": "python",
   "nbconvert_exporter": "python",
   "pygments_lexer": "ipython3",
   "version": "3.7.6"
  }
 },
 "nbformat": 4,
 "nbformat_minor": 4
}
